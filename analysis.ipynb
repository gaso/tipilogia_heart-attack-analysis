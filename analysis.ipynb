{
  "nbformat": 4,
  "nbformat_minor": 0,
  "metadata": {
    "colab": {
      "provenance": [],
      "include_colab_link": true
    },
    "kernelspec": {
      "name": "ir",
      "display_name": "R"
    },
    "language_info": {
      "name": "R"
    }
  },
  "cells": [
    {
      "cell_type": "markdown",
      "metadata": {
        "id": "view-in-github",
        "colab_type": "text"
      },
      "source": [
        "<a href=\"https://colab.research.google.com/github/gaso/tipologia_heart-attack-analysis/blob/main/analysis.ipynb\" target=\"_parent\"><img src=\"https://colab.research.google.com/assets/colab-badge.svg\" alt=\"Open In Colab\"/></a>"
      ]
    },
    {
      "cell_type": "markdown",
      "source": [
        "<div style=\"width: 100%; clear: both;\">\n",
        "<div style=\"float: left; width: 50%;\">\n",
        "<img src=\"http://www.uoc.edu/portal/_resources/common/imatges/marca_UOC/UOC_Masterbrand.jpg\", align=\"left\">\n",
        "</div>\n",
        "<div style=\"float: right; width: 50%;\">\n",
        "<p style=\"margin: 0; padding-top: 22px; text-align:right;\">Tipología y ciclo de vida de los datos</p>\n",
        "<p style=\"margin: 0; text-align:right;\">2023-1 · Máster universitario en Ciencia de datos (Data science)</p>\n",
        "<p style=\"margin: 0; text-align:right; padding-button: 100px;\">Estudios de Informática, Multimedia y Telecomunicación</p>\n",
        "</div>\n",
        "</div>\n",
        "<div style=\"width:100%;\">&nbsp;</div>"
      ],
      "metadata": {
        "id": "mjDhYkiXULfu"
      }
    },
    {
      "cell_type": "markdown",
      "source": [
        "Cargue de Librerias"
      ],
      "metadata": {
        "id": "X_dS-91_T-u_"
      }
    },
    {
      "cell_type": "code",
      "execution_count": null,
      "metadata": {
        "colab": {
          "base_uri": "https://localhost:8080/"
        },
        "id": "L77tWh4bPvJL",
        "outputId": "90012f26-6105-4280-a621-45befe09057b"
      },
      "outputs": [
        {
          "output_type": "stream",
          "name": "stderr",
          "text": [
            "Installing package into ‘/usr/local/lib/R/site-library’\n",
            "(as ‘lib’ is unspecified)\n",
            "\n"
          ]
        }
      ],
      "source": [
        "install.packages('ggplot2')"
      ]
    },
    {
      "cell_type": "markdown",
      "source": [
        "# 1. Descripción del dataset."
      ],
      "metadata": {
        "id": "mB3X6vzy5ZBL"
      }
    },
    {
      "cell_type": "markdown",
      "source": [
        "## 1.1 Carga del dataset"
      ],
      "metadata": {
        "id": "yLEEubVU4TZK"
      }
    },
    {
      "cell_type": "code",
      "source": [
        "path= 'https://raw.githubusercontent.com/gaso/tipologia_heart-attack-analysis/main/dataset/heart.csv'\n",
        "data <- read.csv(path, row.names=NULL)\n",
        "\n",
        "str(data)"
      ],
      "metadata": {
        "colab": {
          "base_uri": "https://localhost:8080/"
        },
        "id": "hDFng7o-300A",
        "outputId": "a120eaae-d3ef-4f27-8b5e-8c09fe1d6059"
      },
      "execution_count": 1,
      "outputs": [
        {
          "output_type": "stream",
          "name": "stdout",
          "text": [
            "'data.frame':\t303 obs. of  14 variables:\n",
            " $ age     : int  63 37 41 56 57 57 56 44 52 57 ...\n",
            " $ sex     : int  1 1 0 1 0 1 0 1 1 1 ...\n",
            " $ cp      : int  3 2 1 1 0 0 1 1 2 2 ...\n",
            " $ trtbps  : int  145 130 130 120 120 140 140 120 172 150 ...\n",
            " $ chol    : int  233 250 204 236 354 192 294 263 199 168 ...\n",
            " $ fbs     : int  1 0 0 0 0 0 0 0 1 0 ...\n",
            " $ restecg : int  0 1 0 1 1 1 0 1 1 1 ...\n",
            " $ thalachh: int  150 187 172 178 163 148 153 173 162 174 ...\n",
            " $ exng    : int  0 0 0 0 1 0 0 0 0 0 ...\n",
            " $ oldpeak : num  2.3 3.5 1.4 0.8 0.6 0.4 1.3 0 0.5 1.6 ...\n",
            " $ slp     : int  0 0 2 2 2 1 1 2 2 2 ...\n",
            " $ caa     : int  0 0 0 0 0 0 0 0 0 0 ...\n",
            " $ thall   : int  1 2 2 2 2 1 2 3 3 2 ...\n",
            " $ output  : int  1 1 1 1 1 1 1 1 1 1 ...\n"
          ]
        }
      ]
    },
    {
      "cell_type": "markdown",
      "source": [
        "El conjunto de datos contiene **303** observaciones y **14** variables. \n",
        "\n",
        "**age:** La edad del paciente (variable numérica).\n",
        "\n",
        "**sex:** El sexo del paciente (1: masculino, 0: femenino) (variable numérica).\n",
        "\n",
        "**cp:** Tipo de dolor en el pecho (variable numérica).\n",
        "\n",
        "**trtbps:** Presión arterial en reposo (variable numérica).\n",
        "\n",
        "**chol:** Nivel de colesterol en mg/dL (variable numérica).\n",
        "\n",
        "**fbs:** Nivel de azúcar en la sangre en ayunas (1: superior a 120 mg/dL, 0: inferior a 120 mg/dL) (variable numérica).\n",
        "\n",
        "**restecg:** Resultados del electrocardiograma en reposo (variable numérica).\n",
        "\n",
        "**thalachh:** Frecuencia cardíaca máxima alcanzada (variable numérica).\n",
        "\n",
        "**exng:** Angina inducida por ejercicio (1: sí, 0: no) (variable numérica).\n",
        "\n",
        "**oldpeak:** Depresión del ST inducida por el ejercicio en relación con el descanso (variable numérica).\n",
        "\n",
        "**slp: **Pendiente del segmento ST de ejercicio (variable numérica).\n",
        "\n",
        "**caa:** Número de vasos principales coloreados por fluoroscopia (variable numérica).\n",
        "\n",
        "**thall:** Resultados de las pruebas de estrés con talio (variable numérica).\n",
        "\n",
        "**output:** Variable de salida, 1 si la persona tiene enfermedad cardíaca y 0 si no la tiene (variable numérica)."
      ],
      "metadata": {
        "id": "rybIO4UF7DJR"
      }
    },
    {
      "cell_type": "markdown",
      "source": [
        "Resumen de datos que contiene el dataset"
      ],
      "metadata": {
        "id": "HpwUljvLTlq1"
      }
    },
    {
      "cell_type": "code",
      "source": [
        "head(data)"
      ],
      "metadata": {
        "colab": {
          "base_uri": "https://localhost:8080/",
          "height": 286
        },
        "id": "VlsX-BJETt1j",
        "outputId": "857a6f34-4e1d-4355-f897-52004a3e9b86"
      },
      "execution_count": 4,
      "outputs": [
        {
          "output_type": "display_data",
          "data": {
            "text/html": [
              "<table class=\"dataframe\">\n",
              "<caption>A data.frame: 6 × 14</caption>\n",
              "<thead>\n",
              "\t<tr><th></th><th scope=col>age</th><th scope=col>sex</th><th scope=col>cp</th><th scope=col>trtbps</th><th scope=col>chol</th><th scope=col>fbs</th><th scope=col>restecg</th><th scope=col>thalachh</th><th scope=col>exng</th><th scope=col>oldpeak</th><th scope=col>slp</th><th scope=col>caa</th><th scope=col>thall</th><th scope=col>output</th></tr>\n",
              "\t<tr><th></th><th scope=col>&lt;int&gt;</th><th scope=col>&lt;int&gt;</th><th scope=col>&lt;int&gt;</th><th scope=col>&lt;int&gt;</th><th scope=col>&lt;int&gt;</th><th scope=col>&lt;int&gt;</th><th scope=col>&lt;int&gt;</th><th scope=col>&lt;int&gt;</th><th scope=col>&lt;int&gt;</th><th scope=col>&lt;dbl&gt;</th><th scope=col>&lt;int&gt;</th><th scope=col>&lt;int&gt;</th><th scope=col>&lt;int&gt;</th><th scope=col>&lt;int&gt;</th></tr>\n",
              "</thead>\n",
              "<tbody>\n",
              "\t<tr><th scope=row>1</th><td>63</td><td>1</td><td>3</td><td>145</td><td>233</td><td>1</td><td>0</td><td>150</td><td>0</td><td>2.3</td><td>0</td><td>0</td><td>1</td><td>1</td></tr>\n",
              "\t<tr><th scope=row>2</th><td>37</td><td>1</td><td>2</td><td>130</td><td>250</td><td>0</td><td>1</td><td>187</td><td>0</td><td>3.5</td><td>0</td><td>0</td><td>2</td><td>1</td></tr>\n",
              "\t<tr><th scope=row>3</th><td>41</td><td>0</td><td>1</td><td>130</td><td>204</td><td>0</td><td>0</td><td>172</td><td>0</td><td>1.4</td><td>2</td><td>0</td><td>2</td><td>1</td></tr>\n",
              "\t<tr><th scope=row>4</th><td>56</td><td>1</td><td>1</td><td>120</td><td>236</td><td>0</td><td>1</td><td>178</td><td>0</td><td>0.8</td><td>2</td><td>0</td><td>2</td><td>1</td></tr>\n",
              "\t<tr><th scope=row>5</th><td>57</td><td>0</td><td>0</td><td>120</td><td>354</td><td>0</td><td>1</td><td>163</td><td>1</td><td>0.6</td><td>2</td><td>0</td><td>2</td><td>1</td></tr>\n",
              "\t<tr><th scope=row>6</th><td>57</td><td>1</td><td>0</td><td>140</td><td>192</td><td>0</td><td>1</td><td>148</td><td>0</td><td>0.4</td><td>1</td><td>0</td><td>1</td><td>1</td></tr>\n",
              "</tbody>\n",
              "</table>\n"
            ],
            "text/markdown": "\nA data.frame: 6 × 14\n\n| <!--/--> | age &lt;int&gt; | sex &lt;int&gt; | cp &lt;int&gt; | trtbps &lt;int&gt; | chol &lt;int&gt; | fbs &lt;int&gt; | restecg &lt;int&gt; | thalachh &lt;int&gt; | exng &lt;int&gt; | oldpeak &lt;dbl&gt; | slp &lt;int&gt; | caa &lt;int&gt; | thall &lt;int&gt; | output &lt;int&gt; |\n|---|---|---|---|---|---|---|---|---|---|---|---|---|---|---|\n| 1 | 63 | 1 | 3 | 145 | 233 | 1 | 0 | 150 | 0 | 2.3 | 0 | 0 | 1 | 1 |\n| 2 | 37 | 1 | 2 | 130 | 250 | 0 | 1 | 187 | 0 | 3.5 | 0 | 0 | 2 | 1 |\n| 3 | 41 | 0 | 1 | 130 | 204 | 0 | 0 | 172 | 0 | 1.4 | 2 | 0 | 2 | 1 |\n| 4 | 56 | 1 | 1 | 120 | 236 | 0 | 1 | 178 | 0 | 0.8 | 2 | 0 | 2 | 1 |\n| 5 | 57 | 0 | 0 | 120 | 354 | 0 | 1 | 163 | 1 | 0.6 | 2 | 0 | 2 | 1 |\n| 6 | 57 | 1 | 0 | 140 | 192 | 0 | 1 | 148 | 0 | 0.4 | 1 | 0 | 1 | 1 |\n\n",
            "text/latex": "A data.frame: 6 × 14\n\\begin{tabular}{r|llllllllllllll}\n  & age & sex & cp & trtbps & chol & fbs & restecg & thalachh & exng & oldpeak & slp & caa & thall & output\\\\\n  & <int> & <int> & <int> & <int> & <int> & <int> & <int> & <int> & <int> & <dbl> & <int> & <int> & <int> & <int>\\\\\n\\hline\n\t1 & 63 & 1 & 3 & 145 & 233 & 1 & 0 & 150 & 0 & 2.3 & 0 & 0 & 1 & 1\\\\\n\t2 & 37 & 1 & 2 & 130 & 250 & 0 & 1 & 187 & 0 & 3.5 & 0 & 0 & 2 & 1\\\\\n\t3 & 41 & 0 & 1 & 130 & 204 & 0 & 0 & 172 & 0 & 1.4 & 2 & 0 & 2 & 1\\\\\n\t4 & 56 & 1 & 1 & 120 & 236 & 0 & 1 & 178 & 0 & 0.8 & 2 & 0 & 2 & 1\\\\\n\t5 & 57 & 0 & 0 & 120 & 354 & 0 & 1 & 163 & 1 & 0.6 & 2 & 0 & 2 & 1\\\\\n\t6 & 57 & 1 & 0 & 140 & 192 & 0 & 1 & 148 & 0 & 0.4 & 1 & 0 & 1 & 1\\\\\n\\end{tabular}\n",
            "text/plain": [
              "  age sex cp trtbps chol fbs restecg thalachh exng oldpeak slp caa thall output\n",
              "1 63  1   3  145    233  1   0       150      0    2.3     0   0   1     1     \n",
              "2 37  1   2  130    250  0   1       187      0    3.5     0   0   2     1     \n",
              "3 41  0   1  130    204  0   0       172      0    1.4     2   0   2     1     \n",
              "4 56  1   1  120    236  0   1       178      0    0.8     2   0   2     1     \n",
              "5 57  0   0  120    354  0   1       163      1    0.6     2   0   2     1     \n",
              "6 57  1   0  140    192  0   1       148      0    0.4     1   0   1     1     "
            ]
          },
          "metadata": {}
        }
      ]
    },
    {
      "cell_type": "markdown",
      "source": [],
      "metadata": {
        "id": "zAErIImnTunw"
      }
    },
    {
      "cell_type": "code",
      "source": [
        "summary(data)"
      ],
      "metadata": {
        "colab": {
          "base_uri": "https://localhost:8080/",
          "height": 503
        },
        "id": "juAcXSVoTikn",
        "outputId": "3e117f2a-840b-47be-b6ab-4aa1b3c0b5fb"
      },
      "execution_count": 3,
      "outputs": [
        {
          "output_type": "display_data",
          "data": {
            "text/plain": [
              "      age             sex               cp            trtbps     \n",
              " Min.   :29.00   Min.   :0.0000   Min.   :0.000   Min.   : 94.0  \n",
              " 1st Qu.:47.50   1st Qu.:0.0000   1st Qu.:0.000   1st Qu.:120.0  \n",
              " Median :55.00   Median :1.0000   Median :1.000   Median :130.0  \n",
              " Mean   :54.37   Mean   :0.6832   Mean   :0.967   Mean   :131.6  \n",
              " 3rd Qu.:61.00   3rd Qu.:1.0000   3rd Qu.:2.000   3rd Qu.:140.0  \n",
              " Max.   :77.00   Max.   :1.0000   Max.   :3.000   Max.   :200.0  \n",
              "      chol            fbs            restecg          thalachh    \n",
              " Min.   :126.0   Min.   :0.0000   Min.   :0.0000   Min.   : 71.0  \n",
              " 1st Qu.:211.0   1st Qu.:0.0000   1st Qu.:0.0000   1st Qu.:133.5  \n",
              " Median :240.0   Median :0.0000   Median :1.0000   Median :153.0  \n",
              " Mean   :246.3   Mean   :0.1485   Mean   :0.5281   Mean   :149.6  \n",
              " 3rd Qu.:274.5   3rd Qu.:0.0000   3rd Qu.:1.0000   3rd Qu.:166.0  \n",
              " Max.   :564.0   Max.   :1.0000   Max.   :2.0000   Max.   :202.0  \n",
              "      exng           oldpeak          slp             caa        \n",
              " Min.   :0.0000   Min.   :0.00   Min.   :0.000   Min.   :0.0000  \n",
              " 1st Qu.:0.0000   1st Qu.:0.00   1st Qu.:1.000   1st Qu.:0.0000  \n",
              " Median :0.0000   Median :0.80   Median :1.000   Median :0.0000  \n",
              " Mean   :0.3267   Mean   :1.04   Mean   :1.399   Mean   :0.7294  \n",
              " 3rd Qu.:1.0000   3rd Qu.:1.60   3rd Qu.:2.000   3rd Qu.:1.0000  \n",
              " Max.   :1.0000   Max.   :6.20   Max.   :2.000   Max.   :4.0000  \n",
              "     thall           output      \n",
              " Min.   :0.000   Min.   :0.0000  \n",
              " 1st Qu.:2.000   1st Qu.:0.0000  \n",
              " Median :2.000   Median :1.0000  \n",
              " Mean   :2.314   Mean   :0.5446  \n",
              " 3rd Qu.:3.000   3rd Qu.:1.0000  \n",
              " Max.   :3.000   Max.   :1.0000  "
            ]
          },
          "metadata": {}
        }
      ]
    },
    {
      "cell_type": "markdown",
      "source": [
        "Comprobar valores nulos en conjunto de datos"
      ],
      "metadata": {
        "id": "OtxgWuvmTO6y"
      }
    },
    {
      "cell_type": "code",
      "source": [],
      "metadata": {
        "id": "3l6ro36jVNm1"
      },
      "execution_count": null,
      "outputs": []
    },
    {
      "cell_type": "code",
      "source": [],
      "metadata": {
        "id": "PpSq3JRrVNx3"
      },
      "execution_count": null,
      "outputs": []
    },
    {
      "cell_type": "code",
      "source": [
        "colSums(is.na(data))"
      ],
      "metadata": {
        "id": "_SdNJCvu7Vf9",
        "colab": {
          "base_uri": "https://localhost:8080/",
          "height": 34
        },
        "outputId": "42177517-6f29-4f0e-ae0b-6eaf7a06be56"
      },
      "execution_count": 2,
      "outputs": [
        {
          "output_type": "display_data",
          "data": {
            "text/html": [
              "<style>\n",
              ".dl-inline {width: auto; margin:0; padding: 0}\n",
              ".dl-inline>dt, .dl-inline>dd {float: none; width: auto; display: inline-block}\n",
              ".dl-inline>dt::after {content: \":\\0020\"; padding-right: .5ex}\n",
              ".dl-inline>dt:not(:first-of-type) {padding-left: .5ex}\n",
              "</style><dl class=dl-inline><dt>age</dt><dd>0</dd><dt>sex</dt><dd>0</dd><dt>cp</dt><dd>0</dd><dt>trtbps</dt><dd>0</dd><dt>chol</dt><dd>0</dd><dt>fbs</dt><dd>0</dd><dt>restecg</dt><dd>0</dd><dt>thalachh</dt><dd>0</dd><dt>exng</dt><dd>0</dd><dt>oldpeak</dt><dd>0</dd><dt>slp</dt><dd>0</dd><dt>caa</dt><dd>0</dd><dt>thall</dt><dd>0</dd><dt>output</dt><dd>0</dd></dl>\n"
            ],
            "text/markdown": "age\n:   0sex\n:   0cp\n:   0trtbps\n:   0chol\n:   0fbs\n:   0restecg\n:   0thalachh\n:   0exng\n:   0oldpeak\n:   0slp\n:   0caa\n:   0thall\n:   0output\n:   0\n\n",
            "text/latex": "\\begin{description*}\n\\item[age] 0\n\\item[sex] 0\n\\item[cp] 0\n\\item[trtbps] 0\n\\item[chol] 0\n\\item[fbs] 0\n\\item[restecg] 0\n\\item[thalachh] 0\n\\item[exng] 0\n\\item[oldpeak] 0\n\\item[slp] 0\n\\item[caa] 0\n\\item[thall] 0\n\\item[output] 0\n\\end{description*}\n",
            "text/plain": [
              "     age      sex       cp   trtbps     chol      fbs  restecg thalachh \n",
              "       0        0        0        0        0        0        0        0 \n",
              "    exng  oldpeak      slp      caa    thall   output \n",
              "       0        0        0        0        0        0 "
            ]
          },
          "metadata": {}
        }
      ]
    },
    {
      "cell_type": "markdown",
      "source": [
        "Comprobar duplicados"
      ],
      "metadata": {
        "id": "y8A--QtwUzfi"
      }
    },
    {
      "cell_type": "code",
      "source": [
        "duplicated_rows <- data[duplicated(data), ]\n",
        "duplicated_rows"
      ],
      "metadata": {
        "colab": {
          "base_uri": "https://localhost:8080/",
          "height": 129
        },
        "id": "OCxs9FjqU0jl",
        "outputId": "f205ae08-1b51-4104-9a47-f6d7f88979f4"
      },
      "execution_count": 10,
      "outputs": [
        {
          "output_type": "display_data",
          "data": {
            "text/html": [
              "<table class=\"dataframe\">\n",
              "<caption>A data.frame: 1 × 14</caption>\n",
              "<thead>\n",
              "\t<tr><th></th><th scope=col>age</th><th scope=col>sex</th><th scope=col>cp</th><th scope=col>trtbps</th><th scope=col>chol</th><th scope=col>fbs</th><th scope=col>restecg</th><th scope=col>thalachh</th><th scope=col>exng</th><th scope=col>oldpeak</th><th scope=col>slp</th><th scope=col>caa</th><th scope=col>thall</th><th scope=col>output</th></tr>\n",
              "\t<tr><th></th><th scope=col>&lt;int&gt;</th><th scope=col>&lt;int&gt;</th><th scope=col>&lt;int&gt;</th><th scope=col>&lt;int&gt;</th><th scope=col>&lt;int&gt;</th><th scope=col>&lt;int&gt;</th><th scope=col>&lt;int&gt;</th><th scope=col>&lt;int&gt;</th><th scope=col>&lt;int&gt;</th><th scope=col>&lt;dbl&gt;</th><th scope=col>&lt;int&gt;</th><th scope=col>&lt;int&gt;</th><th scope=col>&lt;int&gt;</th><th scope=col>&lt;int&gt;</th></tr>\n",
              "</thead>\n",
              "<tbody>\n",
              "\t<tr><th scope=row>165</th><td>38</td><td>1</td><td>2</td><td>138</td><td>175</td><td>0</td><td>1</td><td>173</td><td>0</td><td>0</td><td>2</td><td>4</td><td>2</td><td>1</td></tr>\n",
              "</tbody>\n",
              "</table>\n"
            ],
            "text/markdown": "\nA data.frame: 1 × 14\n\n| <!--/--> | age &lt;int&gt; | sex &lt;int&gt; | cp &lt;int&gt; | trtbps &lt;int&gt; | chol &lt;int&gt; | fbs &lt;int&gt; | restecg &lt;int&gt; | thalachh &lt;int&gt; | exng &lt;int&gt; | oldpeak &lt;dbl&gt; | slp &lt;int&gt; | caa &lt;int&gt; | thall &lt;int&gt; | output &lt;int&gt; |\n|---|---|---|---|---|---|---|---|---|---|---|---|---|---|---|\n| 165 | 38 | 1 | 2 | 138 | 175 | 0 | 1 | 173 | 0 | 0 | 2 | 4 | 2 | 1 |\n\n",
            "text/latex": "A data.frame: 1 × 14\n\\begin{tabular}{r|llllllllllllll}\n  & age & sex & cp & trtbps & chol & fbs & restecg & thalachh & exng & oldpeak & slp & caa & thall & output\\\\\n  & <int> & <int> & <int> & <int> & <int> & <int> & <int> & <int> & <int> & <dbl> & <int> & <int> & <int> & <int>\\\\\n\\hline\n\t165 & 38 & 1 & 2 & 138 & 175 & 0 & 1 & 173 & 0 & 0 & 2 & 4 & 2 & 1\\\\\n\\end{tabular}\n",
            "text/plain": [
              "    age sex cp trtbps chol fbs restecg thalachh exng oldpeak slp caa thall\n",
              "165 38  1   2  138    175  0   1       173      0    0       2   4   2    \n",
              "    output\n",
              "165 1     "
            ]
          },
          "metadata": {}
        }
      ]
    }
  ]
}