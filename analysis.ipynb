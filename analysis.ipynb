{
  "nbformat": 4,
  "nbformat_minor": 0,
  "metadata": {
    "colab": {
      "provenance": [],
      "toc_visible": true,
      "include_colab_link": true
    },
    "kernelspec": {
      "name": "ir",
      "display_name": "R"
    },
    "language_info": {
      "name": "R"
    }
  },
  "cells": [
    {
      "cell_type": "markdown",
      "metadata": {
        "id": "view-in-github",
        "colab_type": "text"
      },
      "source": [
        "<a href=\"https://colab.research.google.com/github/gaso/tipologia_heart-attack-analysis/blob/main/analysis.ipynb\" target=\"_parent\"><img src=\"https://colab.research.google.com/assets/colab-badge.svg\" alt=\"Open In Colab\"/></a>"
      ]
    },
    {
      "cell_type": "markdown",
      "source": [
        "<div style=\"width: 100%; clear: both;\">\n",
        "<div style=\"float: left; width: 50%;\">\n",
        "<img src=\"http://www.uoc.edu/portal/_resources/common/imatges/marca_UOC/UOC_Masterbrand.jpg\", align=\"left\">\n",
        "</div>\n",
        "<div style=\"float: right; width: 50%;\">\n",
        "<p style=\"margin: 0; padding-top: 22px; text-align:right;\">Tipología y ciclo de vida de los datos</p>\n",
        "<p style=\"margin: 0; text-align:right;\">2023-1 · Máster universitario en Ciencia de datos (Data science)</p>\n",
        "<p style=\"margin: 0; text-align:right; padding-button: 100px;\">Estudios de Informática, Multimedia y Telecomunicación</p>\n",
        "</div>\n",
        "</div>\n",
        "<div style=\"width:100%;\">&nbsp;</div>"
      ],
      "metadata": {
        "id": "mjDhYkiXULfu"
      }
    },
    {
      "cell_type": "markdown",
      "source": [
        "Cargue de Librerias"
      ],
      "metadata": {
        "id": "X_dS-91_T-u_"
      }
    },
    {
      "cell_type": "code",
      "execution_count": null,
      "metadata": {
        "colab": {
          "base_uri": "https://localhost:8080/"
        },
        "id": "L77tWh4bPvJL",
        "outputId": "90012f26-6105-4280-a621-45befe09057b"
      },
      "outputs": [
        {
          "output_type": "stream",
          "name": "stderr",
          "text": [
            "Installing package into ‘/usr/local/lib/R/site-library’\n",
            "(as ‘lib’ is unspecified)\n",
            "\n"
          ]
        }
      ],
      "source": [
        "install.packages('ggplot2')"
      ]
    },
    {
      "cell_type": "markdown",
      "source": [
        "# 1. Descripción del dataset."
      ],
      "metadata": {
        "id": "mB3X6vzy5ZBL"
      }
    },
    {
      "cell_type": "markdown",
      "source": [
        "## 1.1 Carga del dataset"
      ],
      "metadata": {
        "id": "yLEEubVU4TZK"
      }
    },
    {
      "cell_type": "code",
      "source": [
        "path= 'heart.csv'\n",
        "data <- read.csv(path, row.names=NULL)\n",
        "\n",
        "str(data)"
      ],
      "metadata": {
        "colab": {
          "base_uri": "https://localhost:8080/"
        },
        "id": "hDFng7o-300A",
        "outputId": "b3d21d36-c98b-437a-90ae-4ec62b2ec2d0"
      },
      "execution_count": 5,
      "outputs": [
        {
          "output_type": "stream",
          "name": "stdout",
          "text": [
            "'data.frame':\t303 obs. of  14 variables:\n",
            " $ age     : int  63 37 41 56 57 57 56 44 52 57 ...\n",
            " $ sex     : int  1 1 0 1 0 1 0 1 1 1 ...\n",
            " $ cp      : int  3 2 1 1 0 0 1 1 2 2 ...\n",
            " $ trtbps  : int  145 130 130 120 120 140 140 120 172 150 ...\n",
            " $ chol    : int  233 250 204 236 354 192 294 263 199 168 ...\n",
            " $ fbs     : int  1 0 0 0 0 0 0 0 1 0 ...\n",
            " $ restecg : int  0 1 0 1 1 1 0 1 1 1 ...\n",
            " $ thalachh: int  150 187 172 178 163 148 153 173 162 174 ...\n",
            " $ exng    : int  0 0 0 0 1 0 0 0 0 0 ...\n",
            " $ oldpeak : num  2.3 3.5 1.4 0.8 0.6 0.4 1.3 0 0.5 1.6 ...\n",
            " $ slp     : int  0 0 2 2 2 1 1 2 2 2 ...\n",
            " $ caa     : int  0 0 0 0 0 0 0 0 0 0 ...\n",
            " $ thall   : int  1 2 2 2 2 1 2 3 3 2 ...\n",
            " $ output  : int  1 1 1 1 1 1 1 1 1 1 ...\n"
          ]
        }
      ]
    },
    {
      "cell_type": "markdown",
      "source": [
        "El conjunto de datos contiene **303** observaciones y **14** variables. \n",
        "\n",
        "**age:** La edad del paciente (variable numérica).\n",
        "\n",
        "**sex:** El sexo del paciente (1: masculino, 0: femenino) (variable numérica).\n",
        "\n",
        "**cp:** Tipo de dolor en el pecho (variable numérica).\n",
        "\n",
        "**trtbps:** Presión arterial en reposo (variable numérica).\n",
        "\n",
        "**chol:** Nivel de colesterol en mg/dL (variable numérica).\n",
        "\n",
        "**fbs:** Nivel de azúcar en la sangre en ayunas (1: superior a 120 mg/dL, 0: inferior a 120 mg/dL) (variable numérica).\n",
        "\n",
        "**restecg:** Resultados del electrocardiograma en reposo (variable numérica).\n",
        "\n",
        "**thalachh:** Frecuencia cardíaca máxima alcanzada (variable numérica).\n",
        "\n",
        "**exng:** Angina inducida por ejercicio (1: sí, 0: no) (variable numérica).\n",
        "\n",
        "**oldpeak:** Depresión del ST inducida por el ejercicio en relación con el descanso (variable numérica).\n",
        "\n",
        "**slp: **Pendiente del segmento ST de ejercicio (variable numérica).\n",
        "\n",
        "**caa:** Número de vasos principales coloreados por fluoroscopia (variable numérica).\n",
        "\n",
        "**thall:** Resultados de las pruebas de estrés con talio (variable numérica).\n",
        "\n",
        "**output:** Variable de salida, 1 si la persona tiene enfermedad cardíaca y 0 si no la tiene (variable numérica)."
      ],
      "metadata": {
        "id": "rybIO4UF7DJR"
      }
    },
    {
      "cell_type": "code",
      "source": [],
      "metadata": {
        "id": "_SdNJCvu7Vf9"
      },
      "execution_count": null,
      "outputs": []
    }
  ]
}